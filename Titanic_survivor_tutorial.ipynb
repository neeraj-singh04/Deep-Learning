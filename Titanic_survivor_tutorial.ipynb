{
  "nbformat": 4,
  "nbformat_minor": 0,
  "metadata": {
    "colab": {
      "name": "Titanic_survivor_tutorial.ipynb",
      "provenance": [],
      "collapsed_sections": [],
      "toc_visible": true,
      "authorship_tag": "ABX9TyPSg9alkws3AjdYeQjLoOjI",
      "include_colab_link": true
    },
    "kernelspec": {
      "name": "python3",
      "display_name": "Python 3"
    },
    "accelerator": "GPU"
  },
  "cells": [
    {
      "cell_type": "markdown",
      "metadata": {
        "id": "view-in-github",
        "colab_type": "text"
      },
      "source": [
        "<a href=\"https://colab.research.google.com/github/neeraj-singh04/Deep-Learning/blob/master/Titanic_survivor_tutorial.ipynb\" target=\"_parent\"><img src=\"https://colab.research.google.com/assets/colab-badge.svg\" alt=\"Open In Colab\"/></a>"
      ]
    },
    {
      "cell_type": "markdown",
      "metadata": {
        "id": "nPr7ayNOCsDz",
        "colab_type": "text"
      },
      "source": [
        "# Import required libraries and the dataset"
      ]
    },
    {
      "cell_type": "code",
      "metadata": {
        "id": "WDXo-x88CtXP",
        "colab_type": "code",
        "colab": {}
      },
      "source": [
        "import numpy as np\n",
        "import pandas as pd\n",
        "from sklearn import preprocessing\n",
        "from statistics import mean\n",
        "from sklearn.metrics import accuracy_score\n",
        "import matplotlib.pyplot as plt\n",
        "import seaborn as sns\n",
        "from scipy.stats import norm\n",
        "from sklearn.preprocessing import StandardScaler\n",
        "from scipy import stats\n",
        "import random\n",
        "from matplotlib import rcParams\n",
        "%matplotlib inline\n",
        "le = preprocessing.LabelEncoder()\n",
        "import re"
      ],
      "execution_count": 0,
      "outputs": []
    },
    {
      "cell_type": "code",
      "metadata": {
        "id": "ZH-9L1jmDAqJ",
        "colab_type": "code",
        "colab": {}
      },
      "source": [
        "data = pd.read_csv('train.csv')\n",
        "test = pd.read_csv('test.csv')"
      ],
      "execution_count": 0,
      "outputs": []
    },
    {
      "cell_type": "code",
      "metadata": {
        "id": "zGaLBXEGDOCP",
        "colab_type": "code",
        "colab": {}
      },
      "source": [
        "# Appending test data with train data, since both dataset can have related values like family name and ticket\n",
        "df = data.append(test, sort=False)"
      ],
      "execution_count": 0,
      "outputs": []
    },
    {
      "cell_type": "markdown",
      "metadata": {
        "id": "l7mMqP4pGQOW",
        "colab_type": "text"
      },
      "source": [
        "# Visualise a sample of dataset"
      ]
    },
    {
      "cell_type": "code",
      "metadata": {
        "id": "smC07Mr5Ddk-",
        "colab_type": "code",
        "colab": {
          "base_uri": "https://localhost:8080/",
          "height": 341
        },
        "outputId": "a1b222d6-f8c7-4dc8-d5ab-b0ca897b00a2"
      },
      "source": [
        "# Creating a TicketId feature, it will tell which person was part of that Family or group\n",
        "ticketNum = pd.DataFrame(df.Ticket.value_counts())\n",
        "ticketNum.rename(columns = {'Ticket' : 'TicketNum'}, inplace = True)\n",
        "ticketNum['TicketId'] = pd.Categorical(ticketNum.index).codes\n",
        "ticketNum.loc[ticketNum.TicketNum < 3, 'TicketId'] = -1\n",
        "df = pd.merge(left = df, right = ticketNum, left_on = 'Ticket', \n",
        "              right_index = True, how = 'left', sort = False)\n",
        "df = df.drop(['TicketNum'],axis=1)\n",
        "df.head()\n"
      ],
      "execution_count": 68,
      "outputs": [
        {
          "output_type": "execute_result",
          "data": {
            "text/html": [
              "<div>\n",
              "<style scoped>\n",
              "    .dataframe tbody tr th:only-of-type {\n",
              "        vertical-align: middle;\n",
              "    }\n",
              "\n",
              "    .dataframe tbody tr th {\n",
              "        vertical-align: top;\n",
              "    }\n",
              "\n",
              "    .dataframe thead th {\n",
              "        text-align: right;\n",
              "    }\n",
              "</style>\n",
              "<table border=\"1\" class=\"dataframe\">\n",
              "  <thead>\n",
              "    <tr style=\"text-align: right;\">\n",
              "      <th></th>\n",
              "      <th>PassengerId</th>\n",
              "      <th>Survived</th>\n",
              "      <th>Pclass</th>\n",
              "      <th>Name</th>\n",
              "      <th>Sex</th>\n",
              "      <th>Age</th>\n",
              "      <th>SibSp</th>\n",
              "      <th>Parch</th>\n",
              "      <th>Ticket</th>\n",
              "      <th>Fare</th>\n",
              "      <th>Cabin</th>\n",
              "      <th>Embarked</th>\n",
              "      <th>TicketId</th>\n",
              "    </tr>\n",
              "  </thead>\n",
              "  <tbody>\n",
              "    <tr>\n",
              "      <th>0</th>\n",
              "      <td>1</td>\n",
              "      <td>0.0</td>\n",
              "      <td>3</td>\n",
              "      <td>Braund, Mr. Owen Harris</td>\n",
              "      <td>male</td>\n",
              "      <td>22.0</td>\n",
              "      <td>1</td>\n",
              "      <td>0</td>\n",
              "      <td>A/5 21171</td>\n",
              "      <td>7.2500</td>\n",
              "      <td>NaN</td>\n",
              "      <td>S</td>\n",
              "      <td>-1</td>\n",
              "    </tr>\n",
              "    <tr>\n",
              "      <th>1</th>\n",
              "      <td>2</td>\n",
              "      <td>1.0</td>\n",
              "      <td>1</td>\n",
              "      <td>Cumings, Mrs. John Bradley (Florence Briggs Th...</td>\n",
              "      <td>female</td>\n",
              "      <td>38.0</td>\n",
              "      <td>1</td>\n",
              "      <td>0</td>\n",
              "      <td>PC 17599</td>\n",
              "      <td>71.2833</td>\n",
              "      <td>C85</td>\n",
              "      <td>C</td>\n",
              "      <td>-1</td>\n",
              "    </tr>\n",
              "    <tr>\n",
              "      <th>2</th>\n",
              "      <td>3</td>\n",
              "      <td>1.0</td>\n",
              "      <td>3</td>\n",
              "      <td>Heikkinen, Miss. Laina</td>\n",
              "      <td>female</td>\n",
              "      <td>26.0</td>\n",
              "      <td>0</td>\n",
              "      <td>0</td>\n",
              "      <td>STON/O2. 3101282</td>\n",
              "      <td>7.9250</td>\n",
              "      <td>NaN</td>\n",
              "      <td>S</td>\n",
              "      <td>-1</td>\n",
              "    </tr>\n",
              "    <tr>\n",
              "      <th>3</th>\n",
              "      <td>4</td>\n",
              "      <td>1.0</td>\n",
              "      <td>1</td>\n",
              "      <td>Futrelle, Mrs. Jacques Heath (Lily May Peel)</td>\n",
              "      <td>female</td>\n",
              "      <td>35.0</td>\n",
              "      <td>1</td>\n",
              "      <td>0</td>\n",
              "      <td>113803</td>\n",
              "      <td>53.1000</td>\n",
              "      <td>C123</td>\n",
              "      <td>S</td>\n",
              "      <td>-1</td>\n",
              "    </tr>\n",
              "    <tr>\n",
              "      <th>4</th>\n",
              "      <td>5</td>\n",
              "      <td>0.0</td>\n",
              "      <td>3</td>\n",
              "      <td>Allen, Mr. William Henry</td>\n",
              "      <td>male</td>\n",
              "      <td>35.0</td>\n",
              "      <td>0</td>\n",
              "      <td>0</td>\n",
              "      <td>373450</td>\n",
              "      <td>8.0500</td>\n",
              "      <td>NaN</td>\n",
              "      <td>S</td>\n",
              "      <td>-1</td>\n",
              "    </tr>\n",
              "  </tbody>\n",
              "</table>\n",
              "</div>"
            ],
            "text/plain": [
              "   PassengerId  Survived  Pclass  ... Cabin Embarked  TicketId\n",
              "0            1       0.0       3  ...   NaN        S        -1\n",
              "1            2       1.0       1  ...   C85        C        -1\n",
              "2            3       1.0       3  ...   NaN        S        -1\n",
              "3            4       1.0       1  ...  C123        S        -1\n",
              "4            5       0.0       3  ...   NaN        S        -1\n",
              "\n",
              "[5 rows x 13 columns]"
            ]
          },
          "metadata": {
            "tags": []
          },
          "execution_count": 68
        }
      ]
    },
    {
      "cell_type": "markdown",
      "metadata": {
        "id": "dyI2rxWCGNL4",
        "colab_type": "text"
      },
      "source": [
        "# Data preprocessing"
      ]
    },
    {
      "cell_type": "code",
      "metadata": {
        "id": "1Xfx2j5pDrjm",
        "colab_type": "code",
        "colab": {}
      },
      "source": [
        "# Separating FamilyName\n",
        "  df['FamilyName'] = df.Name.apply(lambda x : str.split(x, ',')[0])"
      ],
      "execution_count": 0,
      "outputs": []
    },
    {
      "cell_type": "code",
      "metadata": {
        "id": "fCI_mK3LEJi8",
        "colab_type": "code",
        "colab": {}
      },
      "source": [
        "def CabinNum(data):\n",
        "    data.Cabin = data.Cabin.fillna('0')\n",
        "    regex = re.compile('\\s*(\\w+)\\s*')\n",
        "    data['CabinNum'] = data.Cabin.apply(lambda x : len(regex.findall(x)))\n",
        "CabinNum(df)"
      ],
      "execution_count": 0,
      "outputs": []
    },
    {
      "cell_type": "code",
      "metadata": {
        "id": "4E4XfctyEQ3F",
        "colab_type": "code",
        "colab": {
          "base_uri": "https://localhost:8080/",
          "height": 104
        },
        "outputId": "de7ad58d-4a36-470b-f9ab-975519911df0"
      },
      "source": [
        "df.CabinNum.value_counts()"
      ],
      "execution_count": 71,
      "outputs": [
        {
          "output_type": "execute_result",
          "data": {
            "text/plain": [
              "1    1268\n",
              "2      26\n",
              "3      10\n",
              "4       5\n",
              "Name: CabinNum, dtype: int64"
            ]
          },
          "metadata": {
            "tags": []
          },
          "execution_count": 71
        }
      ]
    },
    {
      "cell_type": "code",
      "metadata": {
        "id": "dAIwqW9nEV90",
        "colab_type": "code",
        "colab": {}
      },
      "source": [
        "# Creating Feature Title, since Higher Rank people has more survival chances, should give hit and trail\n",
        "def TitleFunc(data):\n",
        "    sub = {'Col.','Rev.', 'Mr.','Sir.','Jonkheer.', 'Don.','Dona.','Capt.',\n",
        "           'General.','Major.'}\n",
        "    sub1 = {'Miss.','Mme.','Mlle.','Ms.'}\n",
        "    sub2 = {'Mrs.','Countess.','Lady.'}\n",
        "    sub3 = {'Master.'}\n",
        "    sub4 = {'Dr.'}\n",
        "    pattern, pattern1, pattern2, pattern3 = '|'.join(sub), '|'.join(sub1), '|'.join(sub2), '|'.join(sub3)\n",
        "    pattern4 = '|'.join(sub4)\n",
        "    data['Title'] = ''\n",
        "    data.loc[data['Name'].str.contains(pattern),'Title'] = 'Mr.'\n",
        "    data.loc[data['Name'].str.contains(pattern1),'Title'] = 'Miss.'\n",
        "    data.loc[data['Name'].str.contains(pattern2),'Title'] = 'Mrs.'\n",
        "    data.loc[data['Name'].str.contains(pattern3),'Title'] = 'Master.'\n",
        "    data.loc[(data['Name'].str.contains(pattern)) & (data['Age'] <=13),'Title'] = 'Master.'\n",
        "    data.loc[(data['Name'].str.contains(pattern4)) & (data['Sex'] == 'female'),'Title'] = 'Dr.f'\n",
        "    data.loc[(data['Name'].str.contains(pattern4)) & (data['Sex'] == 'male'),'Title'] = 'Dr.m'\n",
        "TitleFunc(df)\n"
      ],
      "execution_count": 0,
      "outputs": []
    },
    {
      "cell_type": "code",
      "metadata": {
        "id": "TBQyyWR5EhID",
        "colab_type": "code",
        "colab": {
          "base_uri": "https://localhost:8080/",
          "height": 230
        },
        "outputId": "98c473b6-c8e8-4489-a7ac-20bf8cd03161"
      },
      "source": [
        "#Lets see Who Survived most\n",
        "train1 = df[0:891].copy()\n",
        "sns.set(style=\"whitegrid\")\n",
        "plt.figure(figsize=(10,3))\n",
        "ax = sns.barplot(x=\"Title\", y=\"Survived\", data=train1)\n",
        "#ax = sns.barplot(x=\"Title\", y=\"Survived\",hue='Title', data=train1)"
      ],
      "execution_count": 73,
      "outputs": [
        {
          "output_type": "display_data",
          "data": {
            "image/png": "[encoded data removed]",
            "text/plain": [
              "<Figure size 720x216 with 1 Axes>"
            ]
          },
          "metadata": {
            "tags": []
          }
        }
      ]
    },
    {
      "cell_type": "code",
      "metadata": {
        "id": "LShFWLHUEsaR",
        "colab_type": "code",
        "colab": {
          "base_uri": "https://localhost:8080/",
          "height": 134
        },
        "outputId": "c32d84ea-5cc6-401a-ce3a-7f0024d40652"
      },
      "source": [
        "# Lets first check missing fare\n",
        "df.loc[df['Fare'].isnull()]"
      ],
      "execution_count": 74,
      "outputs": [
        {
          "output_type": "execute_result",
          "data": {
            "text/html": [
              "<div>\n",
              "<style scoped>\n",
              "    .dataframe tbody tr th:only-of-type {\n",
              "        vertical-align: middle;\n",
              "    }\n",
              "\n",
              "    .dataframe tbody tr th {\n",
              "        vertical-align: top;\n",
              "    }\n",
              "\n",
              "    .dataframe thead th {\n",
              "        text-align: right;\n",
              "    }\n",
              "</style>\n",
              "<table border=\"1\" class=\"dataframe\">\n",
              "  <thead>\n",
              "    <tr style=\"text-align: right;\">\n",
              "      <th></th>\n",
              "      <th>PassengerId</th>\n",
              "      <th>Survived</th>\n",
              "      <th>Pclass</th>\n",
              "      <th>Name</th>\n",
              "      <th>Sex</th>\n",
              "      <th>Age</th>\n",
              "      <th>SibSp</th>\n",
              "      <th>Parch</th>\n",
              "      <th>Ticket</th>\n",
              "      <th>Fare</th>\n",
              "      <th>Cabin</th>\n",
              "      <th>Embarked</th>\n",
              "      <th>TicketId</th>\n",
              "      <th>FamilyName</th>\n",
              "      <th>CabinNum</th>\n",
              "      <th>Title</th>\n",
              "    </tr>\n",
              "  </thead>\n",
              "  <tbody>\n",
              "    <tr>\n",
              "      <th>152</th>\n",
              "      <td>1044</td>\n",
              "      <td>NaN</td>\n",
              "      <td>3</td>\n",
              "      <td>Storey, Mr. Thomas</td>\n",
              "      <td>male</td>\n",
              "      <td>60.5</td>\n",
              "      <td>0</td>\n",
              "      <td>0</td>\n",
              "      <td>3701</td>\n",
              "      <td>NaN</td>\n",
              "      <td>0</td>\n",
              "      <td>S</td>\n",
              "      <td>-1</td>\n",
              "      <td>Storey</td>\n",
              "      <td>1</td>\n",
              "      <td>Mr.</td>\n",
              "    </tr>\n",
              "  </tbody>\n",
              "</table>\n",
              "</div>"
            ],
            "text/plain": [
              "     PassengerId  Survived  Pclass  ... FamilyName CabinNum  Title\n",
              "152         1044       NaN       3  ...     Storey        1    Mr.\n",
              "\n",
              "[1 rows x 16 columns]"
            ]
          },
          "metadata": {
            "tags": []
          },
          "execution_count": 74
        }
      ]
    },
    {
      "cell_type": "code",
      "metadata": {
        "id": "gmrH5sIYEylU",
        "colab_type": "code",
        "colab": {
          "base_uri": "https://localhost:8080/",
          "height": 247
        },
        "outputId": "81e85bb3-9ddc-4d68-face-d8fc75fb10af"
      },
      "source": [
        "#Let's find simlar data, and fill that for missing fare\n",
        "df.loc[(df['Age'] >= 60) & (df['Pclass'] ==3) & (df['Sex'] == 'male') & (df['Embarked'] =='S')]"
      ],
      "execution_count": 75,
      "outputs": [
        {
          "output_type": "execute_result",
          "data": {
            "text/html": [
              "<div>\n",
              "<style scoped>\n",
              "    .dataframe tbody tr th:only-of-type {\n",
              "        vertical-align: middle;\n",
              "    }\n",
              "\n",
              "    .dataframe tbody tr th {\n",
              "        vertical-align: top;\n",
              "    }\n",
              "\n",
              "    .dataframe thead th {\n",
              "        text-align: right;\n",
              "    }\n",
              "</style>\n",
              "<table border=\"1\" class=\"dataframe\">\n",
              "  <thead>\n",
              "    <tr style=\"text-align: right;\">\n",
              "      <th></th>\n",
              "      <th>PassengerId</th>\n",
              "      <th>Survived</th>\n",
              "      <th>Pclass</th>\n",
              "      <th>Name</th>\n",
              "      <th>Sex</th>\n",
              "      <th>Age</th>\n",
              "      <th>SibSp</th>\n",
              "      <th>Parch</th>\n",
              "      <th>Ticket</th>\n",
              "      <th>Fare</th>\n",
              "      <th>Cabin</th>\n",
              "      <th>Embarked</th>\n",
              "      <th>TicketId</th>\n",
              "      <th>FamilyName</th>\n",
              "      <th>CabinNum</th>\n",
              "      <th>Title</th>\n",
              "    </tr>\n",
              "  </thead>\n",
              "  <tbody>\n",
              "    <tr>\n",
              "      <th>326</th>\n",
              "      <td>327</td>\n",
              "      <td>0.0</td>\n",
              "      <td>3</td>\n",
              "      <td>Nysveen, Mr. Johan Hansen</td>\n",
              "      <td>male</td>\n",
              "      <td>61.0</td>\n",
              "      <td>0</td>\n",
              "      <td>0</td>\n",
              "      <td>345364</td>\n",
              "      <td>6.2375</td>\n",
              "      <td>0</td>\n",
              "      <td>S</td>\n",
              "      <td>-1</td>\n",
              "      <td>Nysveen</td>\n",
              "      <td>1</td>\n",
              "      <td>Mr.</td>\n",
              "    </tr>\n",
              "    <tr>\n",
              "      <th>851</th>\n",
              "      <td>852</td>\n",
              "      <td>0.0</td>\n",
              "      <td>3</td>\n",
              "      <td>Svensson, Mr. Johan</td>\n",
              "      <td>male</td>\n",
              "      <td>74.0</td>\n",
              "      <td>0</td>\n",
              "      <td>0</td>\n",
              "      <td>347060</td>\n",
              "      <td>7.7750</td>\n",
              "      <td>0</td>\n",
              "      <td>S</td>\n",
              "      <td>-1</td>\n",
              "      <td>Svensson</td>\n",
              "      <td>1</td>\n",
              "      <td>Mr.</td>\n",
              "    </tr>\n",
              "    <tr>\n",
              "      <th>152</th>\n",
              "      <td>1044</td>\n",
              "      <td>NaN</td>\n",
              "      <td>3</td>\n",
              "      <td>Storey, Mr. Thomas</td>\n",
              "      <td>male</td>\n",
              "      <td>60.5</td>\n",
              "      <td>0</td>\n",
              "      <td>0</td>\n",
              "      <td>3701</td>\n",
              "      <td>NaN</td>\n",
              "      <td>0</td>\n",
              "      <td>S</td>\n",
              "      <td>-1</td>\n",
              "      <td>Storey</td>\n",
              "      <td>1</td>\n",
              "      <td>Mr.</td>\n",
              "    </tr>\n",
              "  </tbody>\n",
              "</table>\n",
              "</div>"
            ],
            "text/plain": [
              "     PassengerId  Survived  Pclass  ... FamilyName CabinNum  Title\n",
              "326          327       0.0       3  ...    Nysveen        1    Mr.\n",
              "851          852       0.0       3  ...   Svensson        1    Mr.\n",
              "152         1044       NaN       3  ...     Storey        1    Mr.\n",
              "\n",
              "[3 rows x 16 columns]"
            ]
          },
          "metadata": {
            "tags": []
          },
          "execution_count": 75
        }
      ]
    },
    {
      "cell_type": "code",
      "metadata": {
        "id": "81ideUmaE1e0",
        "colab_type": "code",
        "colab": {}
      },
      "source": [
        "# Creating FareCat Title, since High Fare people has more survival chances\n",
        "def FareFunc(data):\n",
        "    data.loc[data['Fare'].isnull(), 'Fare'] = 7            #First fill missing fare by least value\n",
        "    data['FareCat'] = 0\n",
        "    data.loc[data['Fare'] < 8, 'FareCat'] = 0\n",
        "    data.loc[(data['Fare'] >= 8 ) & (data['Fare'] < 16),'FareCat' ] = 1\n",
        "    data.loc[(data['Fare'] >= 16) & (data['Fare'] < 30),'FareCat' ] = 2\n",
        "    data.loc[(data['Fare'] >= 30) & (data['Fare'] < 45),'FareCat' ] = 3\n",
        "    data.loc[(data['Fare'] >= 45) & (data['Fare'] < 80),'FareCat' ] = 4\n",
        "    data.loc[(data['Fare'] >= 80) & (data['Fare'] < 160),'FareCat' ] = 5\n",
        "    data.loc[(data['Fare'] >= 160) & (data['Fare'] < 270),'FareCat' ] = 6\n",
        "    data.loc[(data['Fare'] >= 270), 'FareCat'] = 7\n",
        "FareFunc(df)"
      ],
      "execution_count": 0,
      "outputs": []
    },
    {
      "cell_type": "code",
      "metadata": {
        "id": "mDM9jNt9E7Ce",
        "colab_type": "code",
        "colab": {
          "base_uri": "https://localhost:8080/",
          "height": 258
        },
        "outputId": "b54c1744-41ea-4ff0-df91-b47c58b5b989"
      },
      "source": [
        "#Lets check which Fare class Survived along with their title\n",
        "train1 = df[0:891].copy()\n",
        "sns.set(style=\"whitegrid\")\n",
        "plt.figure(figsize=(14,3.5))\n",
        "ax = sns.barplot(x=\"FareCat\", y=\"Survived\",hue='Title', data=train1)"
      ],
      "execution_count": 77,
      "outputs": [
        {
          "output_type": "display_data",
          "data": {
            "image/png": "[encoded data removed]",
            "text/plain": [
              "<Figure size 1008x252 with 1 Axes>"
            ]
          },
          "metadata": {
            "tags": []
          }
        }
      ]
    },
    {
      "cell_type": "code",
      "metadata": {
        "id": "_zunOApVE9UK",
        "colab_type": "code",
        "colab": {}
      },
      "source": [
        "# Creating FamlSize Feature, since Very big family dint survive as per data\n",
        "def FamlSize(data):\n",
        "    data['FamlSize'] = 0\n",
        "    data['FamlSize'] = data['SibSp'] + data['Parch'] + 1\n",
        "def IsAlone(data):\n",
        "    data['IsAlone'] = 0\n",
        "    data.loc[(data['FamlSize'] == 1), 'IsAlone'] = 0\n",
        "    data.loc[(data['FamlSize'] > 1), 'IsAlone'] = 1\n",
        "FamlSize(df)\n",
        "IsAlone(df)"
      ],
      "execution_count": 0,
      "outputs": []
    },
    {
      "cell_type": "code",
      "metadata": {
        "id": "94cI7USQFBCu",
        "colab_type": "code",
        "colab": {
          "base_uri": "https://localhost:8080/",
          "height": 317
        },
        "outputId": "55ceb241-9521-4e8f-858a-faa0089b1e7d"
      },
      "source": [
        "df.head(3)"
      ],
      "execution_count": 79,
      "outputs": [
        {
          "output_type": "execute_result",
          "data": {
            "text/html": [
              "<div>\n",
              "<style scoped>\n",
              "    .dataframe tbody tr th:only-of-type {\n",
              "        vertical-align: middle;\n",
              "    }\n",
              "\n",
              "    .dataframe tbody tr th {\n",
              "        vertical-align: top;\n",
              "    }\n",
              "\n",
              "    .dataframe thead th {\n",
              "        text-align: right;\n",
              "    }\n",
              "</style>\n",
              "<table border=\"1\" class=\"dataframe\">\n",
              "  <thead>\n",
              "    <tr style=\"text-align: right;\">\n",
              "      <th></th>\n",
              "      <th>PassengerId</th>\n",
              "      <th>Survived</th>\n",
              "      <th>Pclass</th>\n",
              "      <th>Name</th>\n",
              "      <th>Sex</th>\n",
              "      <th>Age</th>\n",
              "      <th>SibSp</th>\n",
              "      <th>Parch</th>\n",
              "      <th>Ticket</th>\n",
              "      <th>Fare</th>\n",
              "      <th>Cabin</th>\n",
              "      <th>Embarked</th>\n",
              "      <th>TicketId</th>\n",
              "      <th>FamilyName</th>\n",
              "      <th>CabinNum</th>\n",
              "      <th>Title</th>\n",
              "      <th>FareCat</th>\n",
              "      <th>FamlSize</th>\n",
              "      <th>IsAlone</th>\n",
              "    </tr>\n",
              "  </thead>\n",
              "  <tbody>\n",
              "    <tr>\n",
              "      <th>0</th>\n",
              "      <td>1</td>\n",
              "      <td>0.0</td>\n",
              "      <td>3</td>\n",
              "      <td>Braund, Mr. Owen Harris</td>\n",
              "      <td>male</td>\n",
              "      <td>22.0</td>\n",
              "      <td>1</td>\n",
              "      <td>0</td>\n",
              "      <td>A/5 21171</td>\n",
              "      <td>7.2500</td>\n",
              "      <td>0</td>\n",
              "      <td>S</td>\n",
              "      <td>-1</td>\n",
              "      <td>Braund</td>\n",
              "      <td>1</td>\n",
              "      <td>Mr.</td>\n",
              "      <td>0</td>\n",
              "      <td>2</td>\n",
              "      <td>1</td>\n",
              "    </tr>\n",
              "    <tr>\n",
              "      <th>1</th>\n",
              "      <td>2</td>\n",
              "      <td>1.0</td>\n",
              "      <td>1</td>\n",
              "      <td>Cumings, Mrs. John Bradley (Florence Briggs Th...</td>\n",
              "      <td>female</td>\n",
              "      <td>38.0</td>\n",
              "      <td>1</td>\n",
              "      <td>0</td>\n",
              "      <td>PC 17599</td>\n",
              "      <td>71.2833</td>\n",
              "      <td>C85</td>\n",
              "      <td>C</td>\n",
              "      <td>-1</td>\n",
              "      <td>Cumings</td>\n",
              "      <td>1</td>\n",
              "      <td>Mrs.</td>\n",
              "      <td>4</td>\n",
              "      <td>2</td>\n",
              "      <td>1</td>\n",
              "    </tr>\n",
              "    <tr>\n",
              "      <th>2</th>\n",
              "      <td>3</td>\n",
              "      <td>1.0</td>\n",
              "      <td>3</td>\n",
              "      <td>Heikkinen, Miss. Laina</td>\n",
              "      <td>female</td>\n",
              "      <td>26.0</td>\n",
              "      <td>0</td>\n",
              "      <td>0</td>\n",
              "      <td>STON/O2. 3101282</td>\n",
              "      <td>7.9250</td>\n",
              "      <td>0</td>\n",
              "      <td>S</td>\n",
              "      <td>-1</td>\n",
              "      <td>Heikkinen</td>\n",
              "      <td>1</td>\n",
              "      <td>Miss.</td>\n",
              "      <td>0</td>\n",
              "      <td>1</td>\n",
              "      <td>0</td>\n",
              "    </tr>\n",
              "  </tbody>\n",
              "</table>\n",
              "</div>"
            ],
            "text/plain": [
              "   PassengerId  Survived  Pclass  ... FareCat FamlSize  IsAlone\n",
              "0            1       0.0       3  ...       0        2        1\n",
              "1            2       1.0       1  ...       4        2        1\n",
              "2            3       1.0       3  ...       0        1        0\n",
              "\n",
              "[3 rows x 19 columns]"
            ]
          },
          "metadata": {
            "tags": []
          },
          "execution_count": 79
        }
      ]
    },
    {
      "cell_type": "code",
      "metadata": {
        "id": "rFJ-JPJpFChW",
        "colab_type": "code",
        "colab": {}
      },
      "source": [
        "def LablFunc(data):\n",
        "    lsr = {'Title','Cabin'}\n",
        "    for i in lsr:\n",
        "        le.fit(data[i].astype(str))\n",
        "        data[i] = le.transform(data[i].astype(str))\n",
        "LablFunc(df)"
      ],
      "execution_count": 0,
      "outputs": []
    },
    {
      "cell_type": "code",
      "metadata": {
        "id": "Wn41oCb9FFJA",
        "colab_type": "code",
        "colab": {}
      },
      "source": [
        "# Fill missing Age\n",
        "## Lets predict the age of a person and fill the missing Age\n",
        "features = ['Pclass','SibSp','Parch','TicketId','Fare','CabinNum','Title']\n",
        "from sklearn.ensemble import ExtraTreesRegressor as ETRg\n",
        "def AgeFunc(df):\n",
        "    Etr = ETRg(n_estimators = 200, random_state = 2)\n",
        "    AgeX_Train = df[features][df.Age.notnull()]\n",
        "    AgeY_Train = df['Age'][df.Age.notnull()]\n",
        "    AgeX_Test = df[features][df.Age.isnull()]\n",
        "    \n",
        "    Etr.fit(AgeX_Train,np.ravel(AgeY_Train))\n",
        "    AgePred = Etr.predict(AgeX_Test)\n",
        "    df.loc[df.Age.isnull(), 'Age'] = AgePred\n",
        "    \n",
        "AgeFunc(df)"
      ],
      "execution_count": 0,
      "outputs": []
    },
    {
      "cell_type": "code",
      "metadata": {
        "id": "Ct815lf9FHuO",
        "colab_type": "code",
        "colab": {}
      },
      "source": [
        "# Lets derive AgeGroup feature from age\n",
        "def AgeCat(data):\n",
        "    data['AgeCat'] = 0\n",
        "    data.loc[(data['Age'] <= 5), 'AgeCat'] = 0\n",
        "    data.loc[(data['Age'] <= 12) & (data['Age'] > 5), 'AgeCat'] = 1\n",
        "    data.loc[(data['Age'] <= 18) & (data['Age'] > 12), 'AgeCat'] = 2\n",
        "    data.loc[(data['Age'] <= 22) & (data['Age'] > 18), 'AgeCat'] = 3\n",
        "    data.loc[(data['Age'] <= 32) & (data['Age'] > 22), 'AgeCat'] = 4\n",
        "    data.loc[(data['Age'] <= 45) & (data['Age'] > 32), 'AgeCat'] = 5\n",
        "    data.loc[(data['Age'] <= 60) & (data['Age'] > 45), 'AgeCat'] = 6\n",
        "    data.loc[(data['Age'] <= 70) & (data['Age'] > 60), 'AgeCat'] = 7\n",
        "    data.loc[(data['Age'] > 70), 'AgeCat'] = 8\n",
        "AgeCat(df)"
      ],
      "execution_count": 0,
      "outputs": []
    },
    {
      "cell_type": "code",
      "metadata": {
        "id": "5VUk5iJUFLyG",
        "colab_type": "code",
        "colab": {}
      },
      "source": [
        "#Lets check which Fare class Survived along with their title\n",
        "train1 = df[0:891].copy()\n",
        "sns.set(style=\"whitegrid\")\n",
        "plt.figure(figsize=(14,3.5))\n",
        "ax = sns.barplot(x=\"AgeCat\", y=\"Survived\",hue='Sex', data=train1)"
      ],
      "execution_count": 0,
      "outputs": []
    },
    {
      "cell_type": "code",
      "metadata": {
        "id": "RNeibBfOFPEa",
        "colab_type": "code",
        "colab": {}
      },
      "source": [
        "def AgeCatTitle(data):\n",
        "    data['AgeCatTitle'] = data['Title'].map(str) + data['AgeCat'].map(str)\n",
        "#AgeCatTitle(df)"
      ],
      "execution_count": 0,
      "outputs": []
    },
    {
      "cell_type": "code",
      "metadata": {
        "id": "9ZR9wthQFRkl",
        "colab_type": "code",
        "colab": {
          "base_uri": "https://localhost:8080/",
          "height": 251
        },
        "outputId": "71a07861-0e23-4044-dffa-18e6d692cb61"
      },
      "source": [
        "df.loc[df['Embarked'].isnull()]"
      ],
      "execution_count": 84,
      "outputs": [
        {
          "output_type": "execute_result",
          "data": {
            "text/html": [
              "<div>\n",
              "<style scoped>\n",
              "    .dataframe tbody tr th:only-of-type {\n",
              "        vertical-align: middle;\n",
              "    }\n",
              "\n",
              "    .dataframe tbody tr th {\n",
              "        vertical-align: top;\n",
              "    }\n",
              "\n",
              "    .dataframe thead th {\n",
              "        text-align: right;\n",
              "    }\n",
              "</style>\n",
              "<table border=\"1\" class=\"dataframe\">\n",
              "  <thead>\n",
              "    <tr style=\"text-align: right;\">\n",
              "      <th></th>\n",
              "      <th>PassengerId</th>\n",
              "      <th>Survived</th>\n",
              "      <th>Pclass</th>\n",
              "      <th>Name</th>\n",
              "      <th>Sex</th>\n",
              "      <th>Age</th>\n",
              "      <th>SibSp</th>\n",
              "      <th>Parch</th>\n",
              "      <th>Ticket</th>\n",
              "      <th>Fare</th>\n",
              "      <th>Cabin</th>\n",
              "      <th>Embarked</th>\n",
              "      <th>TicketId</th>\n",
              "      <th>FamilyName</th>\n",
              "      <th>CabinNum</th>\n",
              "      <th>Title</th>\n",
              "      <th>FareCat</th>\n",
              "      <th>FamlSize</th>\n",
              "      <th>IsAlone</th>\n",
              "      <th>AgeCat</th>\n",
              "    </tr>\n",
              "  </thead>\n",
              "  <tbody>\n",
              "    <tr>\n",
              "      <th>61</th>\n",
              "      <td>62</td>\n",
              "      <td>1.0</td>\n",
              "      <td>1</td>\n",
              "      <td>Icard, Miss. Amelie</td>\n",
              "      <td>female</td>\n",
              "      <td>38.0</td>\n",
              "      <td>0</td>\n",
              "      <td>0</td>\n",
              "      <td>113572</td>\n",
              "      <td>80.0</td>\n",
              "      <td>31</td>\n",
              "      <td>NaN</td>\n",
              "      <td>-1</td>\n",
              "      <td>Icard</td>\n",
              "      <td>1</td>\n",
              "      <td>3</td>\n",
              "      <td>5</td>\n",
              "      <td>1</td>\n",
              "      <td>0</td>\n",
              "      <td>5</td>\n",
              "    </tr>\n",
              "    <tr>\n",
              "      <th>829</th>\n",
              "      <td>830</td>\n",
              "      <td>1.0</td>\n",
              "      <td>1</td>\n",
              "      <td>Stone, Mrs. George Nelson (Martha Evelyn)</td>\n",
              "      <td>female</td>\n",
              "      <td>62.0</td>\n",
              "      <td>0</td>\n",
              "      <td>0</td>\n",
              "      <td>113572</td>\n",
              "      <td>80.0</td>\n",
              "      <td>31</td>\n",
              "      <td>NaN</td>\n",
              "      <td>-1</td>\n",
              "      <td>Stone</td>\n",
              "      <td>1</td>\n",
              "      <td>5</td>\n",
              "      <td>5</td>\n",
              "      <td>1</td>\n",
              "      <td>0</td>\n",
              "      <td>7</td>\n",
              "    </tr>\n",
              "  </tbody>\n",
              "</table>\n",
              "</div>"
            ],
            "text/plain": [
              "     PassengerId  Survived  Pclass  ... FamlSize IsAlone  AgeCat\n",
              "61            62       1.0       1  ...        1       0       5\n",
              "829          830       1.0       1  ...        1       0       7\n",
              "\n",
              "[2 rows x 20 columns]"
            ]
          },
          "metadata": {
            "tags": []
          },
          "execution_count": 84
        }
      ]
    },
    {
      "cell_type": "code",
      "metadata": {
        "id": "-GyBWhLvFTyE",
        "colab_type": "code",
        "colab": {
          "base_uri": "https://localhost:8080/",
          "height": 176
        },
        "outputId": "4a359ddd-2624-4d84-9865-82638308fc64"
      },
      "source": [
        "#Lets Check first from where 1st Class passesnger Came\n",
        "sns.set(style=\"whitegrid\")\n",
        "plt.figure(figsize=(12,2))\n",
        "ax = sns.barplot(x=\"Embarked\", y=\"Survived\",hue='Pclass', data=df)"
      ],
      "execution_count": 85,
      "outputs": [
        {
          "output_type": "display_data",
          "data": {
            "image/png": "[encoded data removed]",
            "text/plain": [
              "<Figure size 864x144 with 1 Axes>"
            ]
          },
          "metadata": {
            "tags": []
          }
        }
      ]
    },
    {
      "cell_type": "code",
      "metadata": {
        "id": "AVz4BllHFWGh",
        "colab_type": "code",
        "colab": {}
      },
      "source": [
        "# from 'C' high number of 1st Pclass people Survived, lets fill 'C' in missing value\n",
        "def FillEmbk(data):\n",
        "    var = 'Embarked'\n",
        "    data.loc[(data.Embarked.isnull()),'Embarked']= 'C'\n",
        "FillEmbk(df)"
      ],
      "execution_count": 0,
      "outputs": []
    },
    {
      "cell_type": "code",
      "metadata": {
        "id": "0SfFWwC2FY1c",
        "colab_type": "code",
        "colab": {}
      },
      "source": [
        "# Label Encode Embarked\n",
        "def LablFunc(data):\n",
        "    lst = {'Embarked','Sex'}\n",
        "    for i in lst:\n",
        "        le.fit(data[i].astype(str))\n",
        "        data[i] = le.transform(data[i].astype(str))\n",
        "LablFunc(df)"
      ],
      "execution_count": 0,
      "outputs": []
    },
    {
      "cell_type": "code",
      "metadata": {
        "id": "Zq8vlSy1FbUb",
        "colab_type": "code",
        "colab": {
          "base_uri": "https://localhost:8080/",
          "height": 104
        },
        "outputId": "92984a96-2756-463e-b0e7-417fcae720b6"
      },
      "source": [
        "df.columns"
      ],
      "execution_count": 88,
      "outputs": [
        {
          "output_type": "execute_result",
          "data": {
            "text/plain": [
              "Index(['PassengerId', 'Survived', 'Pclass', 'Name', 'Sex', 'Age', 'SibSp',\n",
              "       'Parch', 'Ticket', 'Fare', 'Cabin', 'Embarked', 'TicketId',\n",
              "       'FamilyName', 'CabinNum', 'Title', 'FareCat', 'FamlSize', 'IsAlone',\n",
              "       'AgeCat'],\n",
              "      dtype='object')"
            ]
          },
          "metadata": {
            "tags": []
          },
          "execution_count": 88
        }
      ]
    },
    {
      "cell_type": "code",
      "metadata": {
        "id": "m1AxyfQ1FcwV",
        "colab_type": "code",
        "colab": {
          "base_uri": "https://localhost:8080/",
          "height": 35
        },
        "outputId": "da4aa8e5-1207-4596-bcb0-ea7ce0f20ced"
      },
      "source": [
        "# Lets Scale the data now\n",
        "from sklearn.preprocessing import StandardScaler\n",
        "target = data['Survived'].values\n",
        "select_features = ['Pclass', 'Age','AgeCat','SibSp', 'Parch', 'Fare', \n",
        "                   'Embarked', 'TicketId', 'CabinNum', 'Title','Cabin',\n",
        "                   'FareCat', 'FamlSize','Sex']\n",
        "scaler = StandardScaler()\n",
        "dfScaled = scaler.fit_transform(df[select_features])\n",
        "train = dfScaled[0:891].copy()\n",
        "test = dfScaled[891:].copy()\n",
        "test.shape"
      ],
      "execution_count": 89,
      "outputs": [
        {
          "output_type": "execute_result",
          "data": {
            "text/plain": [
              "(418, 14)"
            ]
          },
          "metadata": {
            "tags": []
          },
          "execution_count": 89
        }
      ]
    },
    {
      "cell_type": "code",
      "metadata": {
        "id": "Dwuqnx3nFfvP",
        "colab_type": "code",
        "colab": {
          "base_uri": "https://localhost:8080/",
          "height": 277
        },
        "outputId": "559ba370-7e70-41e8-ba54-03d34c5d54f8"
      },
      "source": [
        "# Checking best features\n",
        "from sklearn.feature_selection import SelectKBest, f_classif\n",
        "selector = SelectKBest(f_classif, len(select_features))\n",
        "selector.fit(train, target)\n",
        "scores = -np.log10(selector.pvalues_)\n",
        "indices = np.argsort(scores)[::-1]\n",
        "\n",
        "print('Features importance:')\n",
        "for i in range(len(scores)):\n",
        "    print('%.2f %s' % (scores[indices[i]], select_features[indices[i]]))"
      ],
      "execution_count": 90,
      "outputs": [
        {
          "output_type": "stream",
          "text": [
            "Features importance:\n",
            "68.85 Sex\n",
            "24.60 Pclass\n",
            "22.30 FareCat\n",
            "16.54 Cabin\n",
            "14.21 Fare\n",
            "6.78 Embarked\n",
            "2.07 AgeCat\n",
            "1.83 Parch\n",
            "1.81 Title\n",
            "1.52 CabinNum\n",
            "1.48 Age\n",
            "1.07 TicketId\n",
            "0.53 SibSp\n",
            "0.21 FamlSize\n"
          ],
          "name": "stdout"
        }
      ]
    },
    {
      "cell_type": "code",
      "metadata": {
        "id": "yQIIbIWHFuCw",
        "colab_type": "code",
        "colab": {}
      },
      "source": [
        "# Define Feture importance function\n",
        "def FeatFunc(t_data,model):\n",
        "    names = t_data.columns.values\n",
        "    print(\"Features sorted by their score:\")\n",
        "    print(sorted(zip(map(lambda x: round(x, 4), model.feature_importances_), names), \n",
        "                 reverse=True))"
      ],
      "execution_count": 0,
      "outputs": []
    },
    {
      "cell_type": "code",
      "metadata": {
        "id": "xC7t3kEfFxyl",
        "colab_type": "code",
        "colab": {
          "base_uri": "https://localhost:8080/",
          "height": 35
        },
        "outputId": "c316003f-92b8-4076-d777-481a3c3bf4d7"
      },
      "source": [
        "train.shape"
      ],
      "execution_count": 92,
      "outputs": [
        {
          "output_type": "execute_result",
          "data": {
            "text/plain": [
              "(891, 14)"
            ]
          },
          "metadata": {
            "tags": []
          },
          "execution_count": 92
        }
      ]
    },
    {
      "cell_type": "markdown",
      "metadata": {
        "id": "u0JNbgwpGdH0",
        "colab_type": "text"
      },
      "source": [
        "# Sequential Model Building with Activation for each layer"
      ]
    },
    {
      "cell_type": "code",
      "metadata": {
        "id": "wGGJzwHeGe4p",
        "colab_type": "code",
        "colab": {}
      },
      "source": [
        "from keras import models, regularizers\n",
        "from keras.models import Sequential\n",
        "from keras.layers import Dense, Dropout, BatchNormalization\n",
        "import numpy\n",
        "numpy.random.seed(7)\n",
        "model = models.Sequential()\n",
        "model.add(Dense(64,input_dim=14,activation='relu'))  # Adding input layer of 30 Neurons and 15 inputs\n",
        "model.add(Dropout(0.25))                              # Adding droupout layer to overcome overfitting\n",
        "model.add(Dense(64,activation='relu'))               # Adding 1 hidden layer of 15 Neurons\n",
        "model.add(Dropout(0.25))                              # Adding droupout layer to overcome overfitting\n",
        "model.add(Dense(32,activation='relu'))                # Adding 1 hidden layer of 3 Neurons\n",
        "model.add(Dropout(0.25))                              # Adding droupout layer to overcome overfitting\n",
        "model.add(Dense(1,activation='sigmoid'))             # Output layer of 1 neuron of sigmoid type"
      ],
      "execution_count": 0,
      "outputs": []
    },
    {
      "cell_type": "markdown",
      "metadata": {
        "id": "M-FBHmEkGsz-",
        "colab_type": "text"
      },
      "source": [
        "# Compile with binary CE loss and metric accuracy"
      ]
    },
    {
      "cell_type": "code",
      "metadata": {
        "id": "vF6SNj-eGth9",
        "colab_type": "code",
        "colab": {}
      },
      "source": [
        "model.compile(loss='binary_crossentropy',optimizer='adam',metrics=['accuracy'])"
      ],
      "execution_count": 0,
      "outputs": []
    },
    {
      "cell_type": "markdown",
      "metadata": {
        "id": "iAc0VUG0G8Rp",
        "colab_type": "text"
      },
      "source": [
        "# Train Model with cross validation, with total time taken shown for 20 epochs"
      ]
    },
    {
      "cell_type": "code",
      "metadata": {
        "id": "R-UXJEYcG9Ip",
        "colab_type": "code",
        "colab": {
          "base_uri": "https://localhost:8080/",
          "height": 1000
        },
        "outputId": "00080c9e-d904-4984-8746-9021997dd241"
      },
      "source": [
        "history = model.fit(train,target,epochs=20, batch_size=10, verbose=1,validation_split=0.2)"
      ],
      "execution_count": 45,
      "outputs": [
        {
          "output_type": "stream",
          "text": [
            "WARNING:tensorflow:From /usr/local/lib/python3.6/dist-packages/keras/backend/tensorflow_backend.py:1033: The name tf.assign_add is deprecated. Please use tf.compat.v1.assign_add instead.\n",
            "\n",
            "WARNING:tensorflow:From /usr/local/lib/python3.6/dist-packages/keras/backend/tensorflow_backend.py:1020: The name tf.assign is deprecated. Please use tf.compat.v1.assign instead.\n",
            "\n",
            "WARNING:tensorflow:From /usr/local/lib/python3.6/dist-packages/keras/backend/tensorflow_backend.py:3005: The name tf.Session is deprecated. Please use tf.compat.v1.Session instead.\n",
            "\n",
            "Train on 712 samples, validate on 179 samples\n",
            "Epoch 1/20\n",
            "WARNING:tensorflow:From /usr/local/lib/python3.6/dist-packages/keras/backend/tensorflow_backend.py:190: The name tf.get_default_session is deprecated. Please use tf.compat.v1.get_default_session instead.\n",
            "\n",
            "WARNING:tensorflow:From /usr/local/lib/python3.6/dist-packages/keras/backend/tensorflow_backend.py:197: The name tf.ConfigProto is deprecated. Please use tf.compat.v1.ConfigProto instead.\n",
            "\n",
            "WARNING:tensorflow:From /usr/local/lib/python3.6/dist-packages/keras/backend/tensorflow_backend.py:207: The name tf.global_variables is deprecated. Please use tf.compat.v1.global_variables instead.\n",
            "\n",
            "WARNING:tensorflow:From /usr/local/lib/python3.6/dist-packages/keras/backend/tensorflow_backend.py:216: The name tf.is_variable_initialized is deprecated. Please use tf.compat.v1.is_variable_initialized instead.\n",
            "\n",
            "WARNING:tensorflow:From /usr/local/lib/python3.6/dist-packages/keras/backend/tensorflow_backend.py:223: The name tf.variables_initializer is deprecated. Please use tf.compat.v1.variables_initializer instead.\n",
            "\n",
            "712/712 [==============================] - 10s 14ms/step - loss: 0.6250 - acc: 0.6545 - val_loss: 0.4629 - val_acc: 0.8324\n",
            "Epoch 2/20\n",
            "712/712 [==============================] - 0s 578us/step - loss: 0.5257 - acc: 0.7444 - val_loss: 0.3944 - val_acc: 0.8492\n",
            "Epoch 3/20\n",
            "712/712 [==============================] - 0s 519us/step - loss: 0.4854 - acc: 0.7865 - val_loss: 0.3685 - val_acc: 0.8324\n",
            "Epoch 4/20\n",
            "712/712 [==============================] - 0s 581us/step - loss: 0.4670 - acc: 0.7767 - val_loss: 0.3716 - val_acc: 0.8380\n",
            "Epoch 5/20\n",
            "712/712 [==============================] - 0s 549us/step - loss: 0.4630 - acc: 0.7992 - val_loss: 0.3622 - val_acc: 0.8436\n",
            "Epoch 6/20\n",
            "712/712 [==============================] - 0s 434us/step - loss: 0.4498 - acc: 0.8020 - val_loss: 0.3672 - val_acc: 0.8380\n",
            "Epoch 7/20\n",
            "712/712 [==============================] - 0s 593us/step - loss: 0.4289 - acc: 0.8188 - val_loss: 0.3556 - val_acc: 0.8492\n",
            "Epoch 8/20\n",
            "712/712 [==============================] - 0s 532us/step - loss: 0.4477 - acc: 0.7949 - val_loss: 0.3729 - val_acc: 0.8324\n",
            "Epoch 9/20\n",
            "712/712 [==============================] - 0s 518us/step - loss: 0.4321 - acc: 0.8258 - val_loss: 0.3530 - val_acc: 0.8436\n",
            "Epoch 10/20\n",
            "712/712 [==============================] - 0s 446us/step - loss: 0.4389 - acc: 0.8062 - val_loss: 0.3733 - val_acc: 0.8380\n",
            "Epoch 11/20\n",
            "712/712 [==============================] - 0s 437us/step - loss: 0.4352 - acc: 0.8020 - val_loss: 0.3568 - val_acc: 0.8436\n",
            "Epoch 12/20\n",
            "712/712 [==============================] - 0s 496us/step - loss: 0.4201 - acc: 0.8132 - val_loss: 0.3575 - val_acc: 0.8436\n",
            "Epoch 13/20\n",
            "712/712 [==============================] - 0s 464us/step - loss: 0.4186 - acc: 0.8258 - val_loss: 0.3515 - val_acc: 0.8380\n",
            "Epoch 14/20\n",
            "712/712 [==============================] - 0s 481us/step - loss: 0.4195 - acc: 0.8357 - val_loss: 0.3528 - val_acc: 0.8380\n",
            "Epoch 15/20\n",
            "712/712 [==============================] - 0s 448us/step - loss: 0.4018 - acc: 0.8371 - val_loss: 0.3534 - val_acc: 0.8492\n",
            "Epoch 16/20\n",
            "712/712 [==============================] - 0s 585us/step - loss: 0.4090 - acc: 0.8244 - val_loss: 0.3594 - val_acc: 0.8324\n",
            "Epoch 17/20\n",
            "712/712 [==============================] - 0s 502us/step - loss: 0.4106 - acc: 0.8272 - val_loss: 0.3531 - val_acc: 0.8492\n",
            "Epoch 18/20\n",
            "712/712 [==============================] - 0s 468us/step - loss: 0.4194 - acc: 0.8244 - val_loss: 0.3541 - val_acc: 0.8492\n",
            "Epoch 19/20\n",
            "712/712 [==============================] - 0s 459us/step - loss: 0.4154 - acc: 0.8244 - val_loss: 0.3596 - val_acc: 0.8492\n",
            "Epoch 20/20\n",
            "712/712 [==============================] - 0s 478us/step - loss: 0.3976 - acc: 0.8160 - val_loss: 0.3676 - val_acc: 0.8436\n"
          ],
          "name": "stdout"
        }
      ]
    },
    {
      "cell_type": "code",
      "metadata": {
        "id": "Oq0BY9qUKFDq",
        "colab_type": "code",
        "colab": {}
      },
      "source": [
        ""
      ],
      "execution_count": 0,
      "outputs": []
    },
    {
      "cell_type": "markdown",
      "metadata": {
        "id": "k5Hkq6mQKOzf",
        "colab_type": "text"
      },
      "source": [
        "# Visualise Loss and Accuracy history "
      ]
    },
    {
      "cell_type": "code",
      "metadata": {
        "id": "8cp70FsAKRok",
        "colab_type": "code",
        "colab": {
          "base_uri": "https://localhost:8080/",
          "height": 1000
        },
        "outputId": "46c03746-2460-4f70-a2f1-b2ade8624eb3"
      },
      "source": [
        "history.history"
      ],
      "execution_count": 46,
      "outputs": [
        {
          "output_type": "execute_result",
          "data": {
            "text/plain": [
              "{'acc': [0.6544943827340443,\n",
              "  0.744382022220767,\n",
              "  0.7865168499142936,\n",
              "  0.7766853927561407,\n",
              "  0.7991572981804944,\n",
              "  0.8019662887862559,\n",
              "  0.8188202191939514,\n",
              "  0.7949438198898615,\n",
              "  0.8258426906017775,\n",
              "  0.806179772936896,\n",
              "  0.8019662917999739,\n",
              "  0.813202243256435,\n",
              "  0.8258426936154954,\n",
              "  0.8356741516107924,\n",
              "  0.8370786454905285,\n",
              "  0.824438194712896,\n",
              "  0.827247185402372,\n",
              "  0.8244381997357594,\n",
              "  0.8244381968057557,\n",
              "  0.816011233108767],\n",
              " 'loss': [0.6250362171048529,\n",
              "  0.5256729382142592,\n",
              "  0.4854418198379238,\n",
              "  0.46701184877853713,\n",
              "  0.4629694969299134,\n",
              "  0.4497803659753853,\n",
              "  0.428867373113217,\n",
              "  0.44769540956515946,\n",
              "  0.4320574106878779,\n",
              "  0.43890667011898554,\n",
              "  0.43521462087885715,\n",
              "  0.4201194364368246,\n",
              "  0.41863592328985083,\n",
              "  0.4195182069382641,\n",
              "  0.4018128894143895,\n",
              "  0.40903476110837433,\n",
              "  0.410555826248915,\n",
              "  0.41938198872664,\n",
              "  0.4154203221243754,\n",
              "  0.3976289851988634],\n",
              " 'val_acc': [0.832402222982332,\n",
              "  0.8491620051794212,\n",
              "  0.8324022279771347,\n",
              "  0.8379888248177214,\n",
              "  0.8435754149985712,\n",
              "  0.837988821487853,\n",
              "  0.8491620085092896,\n",
              "  0.8324022313070031,\n",
              "  0.8435754149985712,\n",
              "  0.8379888248177214,\n",
              "  0.8435754133336371,\n",
              "  0.8435754149985712,\n",
              "  0.837988821487853,\n",
              "  0.8379888248177214,\n",
              "  0.8491620085092896,\n",
              "  0.8324022313070031,\n",
              "  0.8491620051794212,\n",
              "  0.8491620068443554,\n",
              "  0.8491620085092896,\n",
              "  0.8435754149985712],\n",
              " 'val_loss': [0.4629294299546567,\n",
              "  0.3943842949147997,\n",
              "  0.36853171685221475,\n",
              "  0.3715903332779527,\n",
              "  0.36217295540777666,\n",
              "  0.36723266408763117,\n",
              "  0.35559414052430477,\n",
              "  0.37293527737343113,\n",
              "  0.35296805427727085,\n",
              "  0.37331986227515024,\n",
              "  0.3568338328899618,\n",
              "  0.35752097612985684,\n",
              "  0.3514942964695019,\n",
              "  0.3527601854095246,\n",
              "  0.35341735400634106,\n",
              "  0.3593748660560427,\n",
              "  0.3530697313933399,\n",
              "  0.35414860376765606,\n",
              "  0.3596180043906473,\n",
              "  0.3675698107680795]}"
            ]
          },
          "metadata": {
            "tags": []
          },
          "execution_count": 46
        }
      ]
    },
    {
      "cell_type": "code",
      "metadata": {
        "id": "Klnq7Y70Kg25",
        "colab_type": "code",
        "colab": {
          "base_uri": "https://localhost:8080/",
          "height": 585
        },
        "outputId": "54b2773a-9a67-492c-da4a-f6fcfe9548ca"
      },
      "source": [
        "\n",
        "# Plot training & val accuracy values\n",
        "plt.plot(history.history['acc'])\n",
        "plt.plot(history.history['val_acc'])\n",
        "plt.title('Model Accuracy')\n",
        "plt.ylabel('Accuracy')\n",
        "plt.xlabel('Epochs')\n",
        "plt.legend(['Train','Val'],loc='upper left')\n",
        "plt.show()\n",
        "\n",
        "# Plot training % val loss values\n",
        "plt.plot(history.history['loss'])\n",
        "plt.plot(history.history['val_loss'])\n",
        "plt.title('Model Loss')\n",
        "plt.ylabel('Loss')\n",
        "plt.xlabel('Epochs')\n",
        "plt.legend(['Train','Val'],loc='upper left')\n",
        "plt.show()"
      ],
      "execution_count": 48,
      "outputs": [
        {
          "output_type": "display_data",
          "data": {
            "image/png": "[encoded data removed]",
            "text/plain": [
              "<Figure size 432x288 with 1 Axes>"
            ]
          },
          "metadata": {
            "tags": []
          }
        },
        {
          "output_type": "display_data",
          "data": {
            "image/png": "[encoded data removed]",
            "text/plain": [
              "<Figure size 432x288 with 1 Axes>"
            ]
          },
          "metadata": {
            "tags": []
          }
        }
      ]
    },
    {
      "cell_type": "markdown",
      "metadata": {
        "id": "7ByK0LNTLEha",
        "colab_type": "text"
      },
      "source": [
        "# Show Confusion Matrix for validation dataset"
      ]
    },
    {
      "cell_type": "code",
      "metadata": {
        "id": "SRCXxlUtLFcP",
        "colab_type": "code",
        "colab": {}
      },
      "source": [
        "from mlxtend.plotting import plot_confusion_matrix\n",
        "from sklearn.metrics import confusion_matrix\n",
        "import matplotlib"
      ],
      "execution_count": 0,
      "outputs": []
    },
    {
      "cell_type": "code",
      "metadata": {
        "id": "UWnKrlMYMYTW",
        "colab_type": "code",
        "colab": {}
      },
      "source": [
        "X_train = data.drop(\"Survived\", axis=1)\n",
        "Y_train = data[\"Survived\"]\n",
        "\n",
        "X_test  = df.drop(\"PassengerId\", axis=1).copy()"
      ],
      "execution_count": 0,
      "outputs": []
    },
    {
      "cell_type": "code",
      "metadata": {
        "id": "aDcaAPugLMv_",
        "colab_type": "code",
        "colab": {}
      },
      "source": [
        "from sklearn.metrics import accuracy_score"
      ],
      "execution_count": 0,
      "outputs": []
    },
    {
      "cell_type": "code",
      "metadata": {
        "id": "GLFAR-lePsoq",
        "colab_type": "code",
        "colab": {}
      },
      "source": [
        "font = {\n",
        "    'family':'Times New Roman',\n",
        "    'weight':'bold',\n",
        "    'size':16 \n",
        "}\n",
        "matplotlib.rc('font',**font)\n",
        "mat = confusion_matrix(y_test, history)\n",
        "plot_confusion_matrix(conf_mat=mat,figsize=(8,8),class_names=class_names,show_normed=True)"
      ],
      "execution_count": 0,
      "outputs": []
    },
    {
      "cell_type": "code",
      "metadata": {
        "id": "YJTuYPDsPwep",
        "colab_type": "code",
        "colab": {}
      },
      "source": [
        ""
      ],
      "execution_count": 0,
      "outputs": []
    }
  ]
}